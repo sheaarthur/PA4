{
 "cells": [
  {
   "cell_type": "markdown",
   "id": "e55fd20d",
   "metadata": {},
   "source": [
    "# PA4\n",
    "## Shealyn Arthur\n",
    "### Version 1\n",
    "### 2023SP CS-150-01"
   ]
  },
  {
   "cell_type": "markdown",
   "id": "6a02439e",
   "metadata": {},
   "source": [
    "#### 1. (a) "
   ]
  },
  {
   "cell_type": "code",
   "execution_count": 13,
   "id": "059a7da1",
   "metadata": {},
   "outputs": [
    {
     "name": "stdout",
     "output_type": "stream",
     "text": [
      "0\n",
      "1\n",
      "2\n",
      "3\n",
      "4\n",
      "5\n",
      "6 *\n",
      "7\n",
      "8\n",
      "9 *\n",
      "10\n",
      "11\n",
      "12 *\n",
      "13\n",
      "14\n",
      "15 *\n",
      "16\n",
      "17\n",
      "18 *\n",
      "19\n",
      "20\n",
      "21 *\n",
      "22\n",
      "23\n",
      "24 *\n",
      "25\n",
      "26\n",
      "27 *\n",
      "28\n",
      "29\n",
      "30 *\n",
      "31\n",
      "32\n",
      "33 *\n",
      "34\n",
      "35\n",
      "36 *\n",
      "37\n",
      "38\n",
      "39 *\n",
      "40\n",
      "41\n",
      "42 *\n",
      "43\n",
      "44\n",
      "45 *\n",
      "46\n",
      "47\n",
      "48 *\n",
      "49\n",
      "50\n",
      "51 *\n",
      "52\n",
      "53\n",
      "54 *\n",
      "55\n",
      "56\n",
      "57 *\n",
      "58\n",
      "59\n",
      "60 *\n",
      "61\n",
      "62\n",
      "63 *\n",
      "64\n",
      "65\n",
      "66 *\n",
      "67\n",
      "68\n",
      "69 *\n",
      "70\n",
      "71\n",
      "72 *\n",
      "73\n",
      "74\n",
      "75 *\n",
      "76\n",
      "77\n",
      "78 *\n",
      "79\n",
      "80\n",
      "81 *\n",
      "82\n",
      "83\n",
      "84 *\n",
      "85\n",
      "86\n",
      "87 *\n",
      "88\n",
      "89\n",
      "90 *\n",
      "91\n",
      "92\n",
      "93 *\n",
      "94\n",
      "95\n",
      "96 *\n",
      "97\n",
      "98\n",
      "99 *\n",
      "100\n"
     ]
    }
   ],
   "source": [
    "for value in range(0,101):\n",
    "    if (value%3==0):\n",
    "        if (value==0):\n",
    "            print(value)\n",
    "        elif(value==3):\n",
    "            print(value)\n",
    "        else:\n",
    "            print(value, \"*\")\n",
    "    else:\n",
    "        print(value)"
   ]
  },
  {
   "cell_type": "markdown",
   "id": "6e0f2af3",
   "metadata": {},
   "source": [
    "#### (b)"
   ]
  },
  {
   "cell_type": "code",
   "execution_count": 18,
   "id": "b7005b0a",
   "metadata": {},
   "outputs": [
    {
     "name": "stdout",
     "output_type": "stream",
     "text": [
      "Enter a number between 1 to 12: 12\n",
      "December - 31 Days\n"
     ]
    }
   ],
   "source": [
    "number=int(input(\"Enter a number between 1 to 12: \"))\n",
    "\n",
    "if (number==1):\n",
    "    print(\"January - 31 Days\")\n",
    "elif (number==2):\n",
    "    print(\"February - 28 Days\")\n",
    "elif (number==3):\n",
    "    print(\"March - 31 Days\")\n",
    "elif (number==4):\n",
    "    print(\"April - 30 Days\")\n",
    "elif (number==5):\n",
    "    print(\"May - 31 Days\")\n",
    "elif (number==6):\n",
    "    print(\"June - 30 Days\")\n",
    "elif (number==7):\n",
    "    print(\"July - 31 Days\")\n",
    "elif (number==8):\n",
    "    print(\"August - 31 Days\")\n",
    "elif (number==9):\n",
    "    print(\"September - 30 Days\")\n",
    "elif (number==10):\n",
    "    print(\"October - 31 Days\")\n",
    "elif (number==11):\n",
    "    print(\"November - 30 Days\")\n",
    "else:\n",
    "    print(\"December - 31 Days\")"
   ]
  },
  {
   "cell_type": "markdown",
   "id": "b5f1bbb0",
   "metadata": {},
   "source": [
    "#### (c)"
   ]
  },
  {
   "cell_type": "code",
   "execution_count": 54,
   "id": "745c4252",
   "metadata": {},
   "outputs": [
    {
     "name": "stdout",
     "output_type": "stream",
     "text": [
      "Enter a number to see whether it is prime or composite: 7\n",
      "7 is a prime number\n"
     ]
    }
   ],
   "source": [
    "number1=int(input(\"Enter a number to see whether it is prime or composite: \"))\n",
    "\n",
    "if number1>1:\n",
    "    for i in range(2, number1//2):\n",
    "        if (number1%i==0):\n",
    "            print(number1, \"is not a prime number\")\n",
    "        else:\n",
    "            print(number1, \"is a prime number\")\n",
    "\n",
    "else:\n",
    "    print(number1, \"is neither prime nor composite\")"
   ]
  },
  {
   "cell_type": "markdown",
   "id": "04e7d83e",
   "metadata": {},
   "source": [
    "#### (d)"
   ]
  },
  {
   "cell_type": "code",
   "execution_count": 9,
   "id": "7c7c6fc5",
   "metadata": {},
   "outputs": [
    {
     "name": "stdout",
     "output_type": "stream",
     "text": [
      "Enter the length of side 1: 1\n",
      "Enter the length of side 2: 2\n",
      "Enter the length of side 3: 3\n",
      "This is a scalene triangle\n"
     ]
    }
   ],
   "source": [
    "side1=int(input(\"Enter the length of side 1: \"))\n",
    "side2=int(input(\"Enter the length of side 2: \"))\n",
    "side3=int(input(\"Enter the length of side 3: \"))\n",
    "\n",
    "if (side1==side2 and side1==side3 and side2==side3):\n",
    "    print(\"This is an equilateral triangle\")\n",
    "elif (side1!=side2 and side2!=side3 and side1!=side3):\n",
    "    print(\"This is a scalene triangle\")\n",
    "else:\n",
    "    print(\"This is an isosceles triangle\")"
   ]
  },
  {
   "cell_type": "markdown",
   "id": "589a48b0",
   "metadata": {},
   "source": [
    "#### (e)"
   ]
  },
  {
   "cell_type": "code",
   "execution_count": 13,
   "id": "5fa72182",
   "metadata": {},
   "outputs": [
    {
     "name": "stdout",
     "output_type": "stream",
     "text": [
      "Enter an age: 67\n",
      "This person is a senior citizen\n"
     ]
    }
   ],
   "source": [
    "age=int(input(\"Enter an age: \"))\n",
    "\n",
    "if (age<18):\n",
    "    print(\"This person is a minor\")\n",
    "elif (age<65):\n",
    "    print(\"This person is an adult\")\n",
    "else:\n",
    "    print(\"This person is a senior citizen\")"
   ]
  }
 ],
 "metadata": {
  "kernelspec": {
   "display_name": "Python 3 (ipykernel)",
   "language": "python",
   "name": "python3"
  },
  "language_info": {
   "codemirror_mode": {
    "name": "ipython",
    "version": 3
   },
   "file_extension": ".py",
   "mimetype": "text/x-python",
   "name": "python",
   "nbconvert_exporter": "python",
   "pygments_lexer": "ipython3",
   "version": "3.9.13"
  }
 },
 "nbformat": 4,
 "nbformat_minor": 5
}
